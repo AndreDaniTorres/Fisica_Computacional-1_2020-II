{
 "metadata": {
  "language_info": {
   "codemirror_mode": {
    "name": "ipython",
    "version": 3
   },
   "file_extension": ".py",
   "mimetype": "text/x-python",
   "name": "python",
   "nbconvert_exporter": "python",
   "pygments_lexer": "ipython3",
   "version": "3.8.5-final"
  },
  "orig_nbformat": 2,
  "kernelspec": {
   "name": "python_defaultSpec_1598976066668",
   "display_name": "Python 3.8.5 64-bit"
  }
 },
 "nbformat": 4,
 "nbformat_minor": 2,
 "cells": [
  {
   "cell_type": "markdown",
   "metadata": {},
   "source": [
    "# Clases y Objetos en Python\n",
    "\n",
    "Python es un lenguaje orientado a objetos, luego la manera más útil de programar en python, es usar este paradigma.\n",
    "\n",
    "### Terminología\n",
    "Lo primero se debe de tener claro, es a que nos referimos cuando hablamos de , clase, objeto, herencia ...\n",
    "- __Clases               :__ Es el prototipo de un objeto, con la definición sus atributos y métodos.\n",
    "- __Atributos            :__ Son el conjunto de variables definidas para una clase de objetos (internos).\n",
    "- __Métodos              :__ Son el conjunto de funciones definidas para una clase de objetos (internos)\n",
    "- __Miembros de la Clase :__ Son tanto los métodos como los atributos.\n",
    "- __Herencia             :__ La transferencia de características de una clase a otra derivada de ella\n",
    "- __Instancia            :__ Se llama instancia un objeto creado a partir de una clase.\n",
    "- __Instanciación        :__ La creación de un objeto.\n",
    "- __Objeto               :__ Una estructura única que es definida por su clase, un objeto es el conjunto de atributos y métodos.\n",
    "- __Operador sobrecargado:__ Cuando se le asigna a un operador mas de una función.\n",
    "\n",
    "\n",
    "### Nota importante sobre los objetos en python\n",
    "\n",
    "Los objetos pueden tener un nombre, o varios (en diferentes estancias) y pueden estar ligados al mismo objeto (aliasing). con los ojetos inmutables como enteros, floats, strings y dentro de códigos sencillos no suele ser muy relevante (aunque digno de tener en cuenta en el diseño). En otros objetos (y códigos) más complejos, puede tener efectos importantes en el comportamiento general del código.\n",
    "\n",
    "__Ejemplo:__ Si pasamos una lista llamada `Lista_Compras` a una rutina llamada `PrintList()` que utiliza el método `pop()` sobre ls lista interna de la rutina llamada `List`, al final modificara el objeto `Lista_Compras` pues usando la terminología de C++, la lista `Lista_Compras` se pasó por referencia a la función `PrintList()`, luego la lista interna `List` es otro nombre para referirse a `Lista_Compras`\n"
   ]
  },
  {
   "cell_type": "code",
   "execution_count": 11,
   "metadata": {},
   "outputs": [],
   "source": [
    "def PrintList(_list):\n",
    "    \"\"\"Imprime la lista como una sucesión\"\"\"\n",
    "    for element in range(len(_list)):\n",
    "        print(_list.pop(),end=\" \")\n",
    "    print()"
   ]
  },
  {
   "cell_type": "code",
   "execution_count": 12,
   "metadata": {
    "tags": []
   },
   "outputs": [
    {
     "output_type": "stream",
     "name": "stdout",
     "text": "Lista de compras antes de PrintList(): ['Aguacate', 'Piña', 'Mango', 'Cosas']\nCosas Mango Piña Aguacate \nLista de compras después de PrintList(): []\n"
    }
   ],
   "source": [
    "Lista_Compras = [\"Aguacate\", \"Piña\",\"Mango\",\"Cosas\"]\n",
    "print(f\"Lista de compras antes de PrintList(): {Lista_Compras}\")\n",
    "PrintList(Lista_Compras)\n",
    "print(f\"Lista de compras después de PrintList(): {Lista_Compras}\")"
   ]
  },
  {
   "cell_type": "markdown",
   "metadata": {},
   "source": [
    "## Creando Clases\n",
    "Para crear una clase, se utiliza la palabra reservada class, seguida del nombre de la clase y al final dos puntos(como todo en python)\n",
    "\n",
    "__Sintaxis:__ \n",
    ">```python\n",
    ">class Nombre_Clase:\n",
    ">        '''Documentación de la clase'''\n",
    ">        Componentes_de_la_clase\n",
    ">```\n",
    "\n",
    "__Ejemplo:__"
   ]
  },
  {
   "cell_type": "code",
   "execution_count": 13,
   "metadata": {},
   "outputs": [],
   "source": [
    "class Estudiante:\n",
    "   'Cosas comunes a todo estudiante'\n",
    "   Numero_Estudiantes = 0\n",
    "\n",
    "   def __init__(self, nombre, nivel):\n",
    "      self.nombre = nombre\n",
    "      self.nivel = nivel\n",
    "      Estudiante.Numero_Estudiantes += 1\n",
    "   \n",
    "   def  display_NE(self):\n",
    "     print ('Numero de estudiantes:', self.Numero_Estudiantes)\n",
    "\n",
    "   def display_Estudiante(self):\n",
    "      print ('Nombre:', self.nombre,  \", Nivel: \", self.nivel)"
   ]
  },
  {
   "cell_type": "markdown",
   "metadata": {},
   "source": [
    "En ésta clase se pueden ver ejemplos de atributos (Numero_Estudiantes, nombre, nivel), de variables de clase (Numero_Estudiantes) que son compartidas por todas las instancias de la clase, y de atributos de la clase (init, display_NE,display_Estudiante).\n",
    "\n",
    "__Notas:__ \n",
    "- El método `__init__` es especial y es llamado método _constructor_, y tiene como función la iniciación de los objetos, pertenecientes a la clase.\n",
    "- Todas los métodos deben de ser creados con una variable `self` como primera entrada, ésta variable no se usa cuando se llaman dichos métodos, pués llamada de forma intrínseca.\n",
    "- Note que el artributo `Numero_Estudiantes` no está atado al `self` y está declarado antes del constructor, estos atributos son generales a todas los objetos de la clase y son comunmente llamados atributos de clase.\n",
    "\n",
    "### Instanciando un Objeto\n",
    "Para crear una instancia de una clase, se llama el constructor. En este ejemplo se crean dos _objetos_ Estudiante, Camilo del nivel 10 y Alfredo del nivel 1\n"
   ]
  },
  {
   "cell_type": "code",
   "execution_count": 14,
   "metadata": {},
   "outputs": [],
   "source": [
    "#Creemos el primer objeto estudiante, llamado Camilo en el nivel 10.\n",
    "estu1=Estudiante(\"Camilo\",10)\n",
    "#Esto instancia un segundo objeto estudiante, llamado Alfredo en el nivel 1.\n",
    "estu2=Estudiante(\"Alfredo\",1)"
   ]
  },
  {
   "cell_type": "markdown",
   "metadata": {},
   "source": [
    "### Utilizando Atributos\n",
    "\n",
    "Se puede acceder a los atributos de los objetos de una clase, a través del operador punto \".\"\n"
   ]
  },
  {
   "cell_type": "code",
   "execution_count": 15,
   "metadata": {
    "tags": []
   },
   "outputs": [
    {
     "output_type": "stream",
     "name": "stdout",
     "text": "Número de estudiantes:  2\nNúmero de estudiantes:  2\nNombre: Camilo , Nivel:  10\nNombre: Alfredo , Nivel:  1\nNumero de estudiantes: 2\nNumero de estudiantes: 2\n"
    }
   ],
   "source": [
    "#Se accede al atributo Numero_Estudiantes directamente usando el operador \".\" \n",
    "#note que el valor no depende del objeto, pues es u atributo de clase\n",
    "print(\"Número de estudiantes: \", estu1.Numero_Estudiantes)\n",
    "print(\"Número de estudiantes: \", estu2.Numero_Estudiantes)\n",
    "# Se accede a los atributos nombre y nivel a travéz del método display_Estudiante()\n",
    "estu1.display_Estudiante()\n",
    "estu2.display_Estudiante()\n",
    "# Se accede a el atributo Numero_Estudiantes a travéz del método display_NE()\n",
    "estu1.display_NE()\n",
    "estu2.display_NE()"
   ]
  },
  {
   "cell_type": "markdown",
   "metadata": {},
   "source": [
    "Es recomendable no dejar al garbage collector la liberación de la memoria de los objetos creados, lo que se suele hacer es adicionar un método _Destructor_ con el fin de que sea el encargado de eliminar el objeto.\n",
    "\n",
    "__Sintaxis:__\n",
    ">```\n",
    "> __del__(self):\n",
    ">   \"\"\"Documentación\"\"\"\n",
    ">   Cuerpo de la función \n",
    "```        \n",
    "__Ejemplo:__ "
   ]
  },
  {
   "cell_type": "code",
   "execution_count": 16,
   "metadata": {},
   "outputs": [],
   "source": [
    "class Punto:\n",
    "    \"\"\"Clase que contiene un punto geométrico\"\"\"\n",
    "    def __init__( self, x=0, y=0):\n",
    "        self.x = x\n",
    "        self.y = y\n",
    "    def __del__(self):\n",
    "        class_name = self.__class__.__name__\n",
    "        print (class_name, \"destruido\")"
   ]
  },
  {
   "cell_type": "code",
   "execution_count": 17,
   "metadata": {
    "tags": []
   },
   "outputs": [
    {
     "output_type": "stream",
     "name": "stdout",
     "text": "Referencia punto 1: 140281285581168, referencia punto 2: 140281285581168\nPunto destruido\n"
    }
   ],
   "source": [
    "# Creo un objeto de la clase Punta y lo asigno a la variable pt1\n",
    "pt1 = Punto()\n",
    "pt2 = pt1\n",
    "# Ésto imprime las referencias del objeto únicas para cada objeto creado dentro de un móduo\n",
    "print (f\"Referencia punto 1: {id(pt1)}, referencia punto 2: {id(pt2)}\")\n",
    "#Destruyo el punto 1\n",
    "del pt1\n",
    "#Intento destruir el punto 2 (no debe de existir, pues es el mismo pt1 con diferente nombre)\n",
    "del pt2"
   ]
  },
  {
   "cell_type": "markdown",
   "metadata": {},
   "source": [
    "### Atributos por defecto\n",
    "Cada clase que se crea en python tiene los siguientes atributos\n",
    "- `__class__ ` : Contiene el nombre de la clase\n",
    "- `__module__` : Contiene el nombre del módulo del cual la clase fue cargada, si el valor es `__main__`, es porque se está corriendo desde el modo interactivo.\n",
    "- `__doc__`    : Documentación.\n",
    "- `__bases__`  : Una tupla que contiene(si hay) en orden de ocurrencia, las clases de las cuales hereda.\n",
    "- `__dict__`   : Diccionario, que contiene el espacio de atributos de la clase.\n",
    "\n",
    "__Ejemplo:__"
   ]
  },
  {
   "cell_type": "code",
   "execution_count": 18,
   "metadata": {
    "tags": []
   },
   "outputs": [
    {
     "output_type": "stream",
     "name": "stdout",
     "text": "Estudiante.__doc__   : Cosas comunes a todo estudiante\nEstudiante.__class__  : <class '__main__.Estudiante'>\nEstudiante.__module__: __main__\nEstudiante.__dict__  : {'nombre': 'Camilo', 'nivel': 10}\nEstudiante.__dict__  : {'nombre': 'Alfredo', 'nivel': 1}\n"
    }
   ],
   "source": [
    "print (\"Estudiante.__doc__   :\", estu1.__doc__)\n",
    "print (\"Estudiante.__class__  :\", estu1.__class__)\n",
    "print (\"Estudiante.__module__:\", estu1.__module__)\n",
    "#print (\"Estudiante.__bases__ :\", estu1.__bases__)\n",
    "print (\"Estudiante.__dict__  :\", estu1.__dict__ )\n",
    "print (\"Estudiante.__dict__  :\", estu2.__dict__ )"
   ]
  },
  {
   "cell_type": "markdown",
   "metadata": {},
   "source": [
    "### Atributos Dinámicos\n",
    "\n",
    "Cuando se instancia un objeto, este solo cuenta con los atributos y métodos definidos por su clase (o clases de las que hereda, que más adelante veremos), pero en python es posible (pero no es recomendable) que en tiempo de ejecución se asignen otros atributos a dicho objeto.\n",
    "\n",
    "__Ejemplo:__ Sigiendo con el ejemplo de la clase estudiantes, se le asigna dinámicamente el atributo cursos a estu1 "
   ]
  },
  {
   "cell_type": "code",
   "execution_count": 19,
   "metadata": {
    "tags": []
   },
   "outputs": [
    {
     "output_type": "stream",
     "name": "stdout",
     "text": "['Física Computacional', 'Atómica', 'Mecánica cuántica II']\nEstudiante.__dict__  : {'nombre': 'Camilo', 'nivel': 10, 'cursos': ['Física Computacional', 'Atómica', 'Mecánica cuántica II']}\nEstudiante.__dict__  : {'nombre': 'Alfredo', 'nivel': 1}\n"
    },
    {
     "output_type": "error",
     "ename": "AttributeError",
     "evalue": "'Estudiante' object has no attribute 'cursos'",
     "traceback": [
      "\u001b[0;31m---------------------------------------------------------------------------\u001b[0m",
      "\u001b[0;31mAttributeError\u001b[0m                            Traceback (most recent call last)",
      "\u001b[0;32m<ipython-input-19-b5ecf675e316>\u001b[0m in \u001b[0;36m<module>\u001b[0;34m\u001b[0m\n\u001b[1;32m      8\u001b[0m \u001b[0;31m#Si intento acceder al atributo cursos del objeto estu2, voy a tener un error,\u001b[0m\u001b[0;34m\u001b[0m\u001b[0;34m\u001b[0m\u001b[0;34m\u001b[0m\u001b[0m\n\u001b[1;32m      9\u001b[0m \u001b[0;31m#pues este objeto no posee dicho atributo\u001b[0m\u001b[0;34m\u001b[0m\u001b[0;34m\u001b[0m\u001b[0;34m\u001b[0m\u001b[0m\n\u001b[0;32m---> 10\u001b[0;31m \u001b[0mprint\u001b[0m\u001b[0;34m(\u001b[0m\u001b[0mestu2\u001b[0m\u001b[0;34m.\u001b[0m\u001b[0mcursos\u001b[0m\u001b[0;34m)\u001b[0m\u001b[0;34m\u001b[0m\u001b[0;34m\u001b[0m\u001b[0m\n\u001b[0m",
      "\u001b[0;31mAttributeError\u001b[0m: 'Estudiante' object has no attribute 'cursos'"
     ]
    }
   ],
   "source": [
    "#Asignamiento dinámico\n",
    "estu1.cursos = [\"Física Computacional\", \"Atómica\", \"Mecánica cuántica II\"]\n",
    "#Se accede a estos nuevos atributos con el operador \".\"\n",
    "print(estu1.cursos)\n",
    "#el contenido del objeto cambio respecto a el resto de los objetos de la clase\n",
    "print (\"Estudiante.__dict__  :\", estu1.__dict__)\n",
    "print (\"Estudiante.__dict__  :\", estu2.__dict__ )\n",
    "#Si intento acceder al atributo cursos del objeto estu2, voy a tener un error,\n",
    "#pues este objeto no posee dicho atributo\n",
    "print(estu2.cursos)"
   ]
  },
  {
   "cell_type": "markdown",
   "metadata": {},
   "source": [
    "### Herencia\n",
    "Una de las características mas relevantes de la Programación Orientada a Objetos (POO más conocida por las siglas en inglés OOP), es la capacidad de reutilizar código usando la herencia. Ésto se hace listando las clases de las que va a heredar en paréntesis luego del nombre y antes de los dos puntos.\n",
    "\n",
    "Sintaxis:\n",
    ">```\n",
    "> class Nombre_clase_hija (Clase_madre1[, Clase_madre2, ...]):\n",
    ">   '''Documentaciión'''\n",
    ">   Cuerpo_Sub_Clase\n",
    ">```\n",
    "\n",
    "__Ejemplo:__ En el sigiente ejemplo tenemos la clase Poligono que nos ayuda a ilistrar no solo la herencia y también el paso de argumentos por defecto"
   ]
  },
  {
   "cell_type": "code",
   "execution_count": 20,
   "metadata": {},
   "outputs": [],
   "source": [
    "class Poligono:\n",
    "    \"\"\"Clase Poligono, resibe el número de lados del poligono, por defecto se asigna 3 lados\"\"\"\n",
    "    def __init__(self, _nlados=None):\n",
    "        '''\n",
    "        Constructor, inicializa la variable lados en el caso de que se pase el argumento\n",
    "        en el caso contrario, pasa el valor por defecto nlados=3. Inicializa cada lado en 0\n",
    "        '''\n",
    "        if _nlados == None : self._nlados=3\n",
    "        self.nlados = _nlados\n",
    "        #Inicializo la longitud de los lados en 0\n",
    "        self.longlados = [0 for i in range(self.nlados)]\n",
    "        print(\"Constructor de la clase Poligono\")\n",
    "\n",
    "    def SetLongLados(self, _nlado,_long):\n",
    "        '''Define _long como la longitud de el lado _nlado'''\n",
    "        self.longlados[_nlado] = _long\n",
    "\n",
    "    def PrintLongLados(self):\n",
    "        for i in range(self.nlados):\n",
    "            print(\"Lado: \",i+1,\"Tiene el tamaño = \",self.longlados[i])\n",
    "\n",
    "#Funcion deribada \n",
    "\n",
    "class Triangulo(Poligono):\n",
    "    \"\"\"La clase Triangulo es una clase derivada de la clase Poligono\"\"\"\n",
    "    def __init__(self):\n",
    "        '''Constructor de la clase Triangulo'''\n",
    "        #Se llama el constructor de poligono para poder inicializar los atributos de Poligono,\n",
    "        # esto, en general, no es obligatorio pero es una buena práctica.\n",
    "        #Puesto que un triángulo es un poligono de 3 lados inicializo Poligono con nlados=3\n",
    "        Poligono.__init__(self,3)\n",
    "        print(\"Constructor, de la clase Triangulo\")\n",
    "\n",
    "    def GetArea(self):\n",
    "        \"\"\"función tipo Get, para obtener el área del triángulo\"\"\"\n",
    "        #Asignar el \n",
    "        a, b, c = self.longlados #Esto es llamado desempaquetado (unpacking) \n",
    "        # Se calcula el semi-perimetro\n",
    "        s = (a + b + c) / 2\n",
    "        # y el area\n",
    "        area = (s*(s-a)*(s-b)*(s-c)) ** 0.5\n",
    "        #Otro forma de usar print, similar a C\n",
    "        print('Area del triángulo = %0.2f' %area)"
   ]
  },
  {
   "cell_type": "code",
   "execution_count": 21,
   "metadata": {
    "tags": []
   },
   "outputs": [
    {
     "output_type": "stream",
     "name": "stdout",
     "text": "Constructor de la clase Poligono\nConstructor, de la clase Triangulo\nArea del triángulo = 0.43\n"
    }
   ],
   "source": [
    "#Creamos un objeto Triangulo\n",
    "#MUCHO CUIDADO con los parentesis de las clases derivadas, pues si no los ponen no incluyen la clase Superior\n",
    "ABC = Triangulo() \n",
    "#Longitud de sus lados (teniendo en cuenta que no cualquier valor es posible)\n",
    "ABC.SetLongLados(0,1)\n",
    "ABC.SetLongLados(1,1)\n",
    "ABC.SetLongLados(2,1)\n",
    "#Vemos el área \n",
    "ABC.GetArea()\n"
   ]
  },
  {
   "cell_type": "markdown",
   "metadata": {},
   "source": [
    "## Sobrecarga de Operadores y Métodos\n",
    "\n",
    "Cuando adquirimos la habilidad de crear nuestros propios objetos, bien sea desde cero o con herencia, hay que tener en cuenta que posiblemente muchos de los operadores y métodos que estamos acostumbrados a usar, pueden no funcionar bien sobre nuestros nuevos objetos.\n",
    "\n",
    "### Métodos de base que se pueden sobre cargados.\n",
    "Los métodos a continuación son métodos que existen en todas las clases de python por defecto, y pueden ser sobrecargados.\n",
    "\n",
    "1. `__init__( self [,args...] )` : Es el método constructor, y es lo primero que se ejecuta al instanciar una clase.\n",
    "2. `__del__( self )` : El método destructor, y siempre se ejecuta cuando se borra un objeto, o cuando es colectado por el garbage colector.\n",
    "3. `__cmp__( self )` : El método para comparar dos objetos.\n",
    "\n",
    "### Sobrecarga de Operadores\n",
    "Cuando se definen nuevos objetos, es normal que uno quiera utilizar los operadores que tienen una interpretación natural. Algunos de los operadores que podemos sobrecargar son la suma (+), la resta (-), multiplicación (*)\n",
    "\n",
    "- `__add__(self, other)` : Suma\n",
    "- `__sub__(self, other)` : Resta\n",
    "- `__mul__(self, other)` : Multiplicación.\n",
    "- `__getitem__(self,index)` : operador [].\n",
    "- `__eq__(self, other)` : operador ==.\n",
    "- `__ne__(self, other)` : operador !=.\n",
    "- `__lt__(self, other)` : operador < .\n",
    "- `__gt__(self, other)` : operador > .\n",
    "\n",
    "__Ejemplo:__ Clase Vector personalizada"
   ]
  },
  {
   "cell_type": "code",
   "execution_count": 30,
   "metadata": {},
   "outputs": [],
   "source": [
    "class Vector:\n",
    "    '''Es una clase vector de ejemplo'''\n",
    "    def __init__(self, x0=0,y0=0,z0=0):\n",
    "        self.x=x0\n",
    "        self.y=y0\n",
    "        self.z=z0\n",
    "        \n",
    "    def __add__(self,other):\n",
    "        '''Sobrecarga del operador suma'''\n",
    "        return Vector(self.x + other.x, self.y + other.y, self.z + other.z)\n",
    "           \n",
    "    def __sub__(self,other):        \n",
    "        '''Sobrecarga del operador resta'''\n",
    "        return Vector(self.x - other.x, self.y - other.y, self.z - other.z)\n",
    "    \n",
    "    def Print(self):\n",
    "        '''Imprime el vector'''\n",
    "        print(f\"[{self.x},{self.y},{self.z}]\")"
   ]
  },
  {
   "cell_type": "code",
   "execution_count": 34,
   "metadata": {
    "tags": []
   },
   "outputs": [
    {
     "output_type": "stream",
     "name": "stdout",
     "text": "vec1 = [1,1,1]\nvec2 = [2,2,2]\nSuma vec1 + vec2 = [3,3,3]\nResta vec1 - vec2 = [-1,-1,-1]\n"
    }
   ],
   "source": [
    "#Creo dos instancias de Vector\n",
    "vec1 = Vector(1,1,1)\n",
    "vec2 = Vector(2,2,2)\n",
    "# Creo una tercera intancia(implisitamente) y le asigno la suma de los objetos vec1 y vec2\n",
    "vec3 = vec1 + vec2\n",
    "# Creo una cuarta intancia(implisitamente) y le asigno la resta de los objetos vec1 y vec2\n",
    "vec4 = vec1 - vec2\n",
    "\n",
    "print(f\"vec1 =\", end=\" \")\n",
    "vec1.Print()\n",
    "print(f\"vec2 =\", end=\" \")\n",
    "vec2.Print()\n",
    "print(\"vec1 + vec2 =\", end=\" \")\n",
    "vec3.Print()\n",
    "print(\"vec1 - vec2 =\", end=\" \")\n",
    "vec4.Print()"
   ]
  },
  {
   "cell_type": "markdown",
   "metadata": {},
   "source": [
    "### Clases Bases en otros Módulos\n",
    "El nombre de la clase debe de estar definido en el ámbito que contenga la definición de la clase derivada. Si la clase se encuentra en otro módulo, lo que se puede hacer es llamarlo usando el operador \".\"\n",
    "\n",
    "__Ejemplo:__ En el archivo ModuloObjetos.py está definido la clase Padre"
   ]
  },
  {
   "cell_type": "code",
   "execution_count": null,
   "metadata": {},
   "outputs": [],
   "source": []
  },
  {
   "cell_type": "code",
   "execution_count": null,
   "metadata": {},
   "outputs": [],
   "source": []
  },
  {
   "cell_type": "code",
   "execution_count": null,
   "metadata": {},
   "outputs": [],
   "source": []
  },
  {
   "cell_type": "markdown",
   "metadata": {
    "tags": []
   },
   "source": [
    "## Función `super()`\n",
    "\n",
    "La función `super()` e usa para reemplazar explísitamente la llamada al constructor de la clase base(ClaseBase.__init__(*arg, **kargs)). Esto hace que la clase derivada no quede\n",
    "\n",
    "There is a maintainability argument that can be made for super even in single inheritance. If for whatever reason your child class changes its inheritance pattern (i.e., parent class changes or there's a shift to multiple inheritance) then there's no need find and replace all the lingering references to ParentClass.method_name(); the use of super will allow all the changes to flow through with the change in the class statement."
   ]
  },
  {
   "cell_type": "code",
   "execution_count": null,
   "metadata": {},
   "outputs": [],
   "source": []
  },
  {
   "cell_type": "code",
   "execution_count": null,
   "metadata": {},
   "outputs": [],
   "source": []
  },
  {
   "cell_type": "code",
   "execution_count": null,
   "metadata": {},
   "outputs": [],
   "source": []
  },
  {
   "cell_type": "markdown",
   "metadata": {},
   "source": []
  },
  {
   "cell_type": "markdown",
   "metadata": {},
   "source": [
    "## Herencia Múltiple"
   ]
  },
  {
   "cell_type": "code",
   "execution_count": null,
   "metadata": {},
   "outputs": [],
   "source": []
  }
 ]
}