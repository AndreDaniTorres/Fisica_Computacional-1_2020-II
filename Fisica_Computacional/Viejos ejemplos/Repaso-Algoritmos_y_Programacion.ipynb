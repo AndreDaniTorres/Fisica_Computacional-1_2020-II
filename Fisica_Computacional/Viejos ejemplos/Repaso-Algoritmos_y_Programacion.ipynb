{
 "cells": [
  {
   "cell_type": "markdown",
   "metadata": {},
   "source": [
    "# Notbook de Jupyter"
   ]
  },
  {
   "cell_type": "markdown",
   "metadata": {},
   "source": [
    "## Algunas cosas interesantes para recordar del curso, pero ahora desde un Notbook de Jupyter"
   ]
  },
  {
   "cell_type": "markdown",
   "metadata": {},
   "source": [
    "Para pedir ayuda, se usa ? (como en iPython) "
   ]
  },
  {
   "cell_type": "markdown",
   "metadata": {},
   "source": [
    "%load?"
   ]
  },
  {
   "cell_type": "markdown",
   "metadata": {},
   "source": [
    "### - Definición y uso de funciones en Python"
   ]
  },
  {
   "cell_type": "code",
   "execution_count": 6,
   "metadata": {
    "collapsed": false
   },
   "outputs": [
    {
     "data": {
      "text/plain": [
       "12"
      ]
     },
     "execution_count": 6,
     "metadata": {},
     "output_type": "execute_result"
    }
   ],
   "source": [
    "# La función se define acá\n",
    "def Multip( x=0,y=0 ):\n",
    "   \"\"\"Se le pasan dos argumentos numéricos, x e y; y la función devuelve su producto y=0 y x=0 por defecto. \n",
    "Ejemplo: Multip(1,3)\"\"\"\n",
    " \n",
    "   return (x*y)\n",
    " \n",
    " \n",
    "# En este punto se llama a la función\n",
    "Multip(3,4)"
   ]
  },
  {
   "cell_type": "code",
   "execution_count": 7,
   "metadata": {
    "collapsed": false
   },
   "outputs": [
    {
     "data": {
      "text/plain": [
       "180"
      ]
     },
     "execution_count": 7,
     "metadata": {},
     "output_type": "execute_result"
    }
   ],
   "source": [
    "# Definición de la función\n",
    "def Suma( arg1=0, arg2=0 , *vartuple ):\n",
    "   \"Suma todas los argumentos\"\n",
    "   suma=arg1 + arg2\n",
    " \n",
    "   for var in vartuple:\n",
    "      suma=suma+var\n",
    "   return suma\n",
    " \n",
    "# Aqui se usa la función Suma\n",
    "Suma( 70, 60, 50 )"
   ]
  },
  {
   "cell_type": "markdown",
   "metadata": {},
   "source": [
    "Algo para tener en cuenta, es que las funciones quedan cargadas y pueden ser luego usadas."
   ]
  },
  {
   "cell_type": "code",
   "execution_count": 6,
   "metadata": {
    "collapsed": false
   },
   "outputs": [
    {
     "data": {
      "text/plain": [
       "192"
      ]
     },
     "execution_count": 6,
     "metadata": {},
     "output_type": "execute_result"
    }
   ],
   "source": [
    "Multip(Suma(2,1,5),Suma(9,8,7))"
   ]
  },
  {
   "cell_type": "markdown",
   "metadata": {},
   "source": [
    "### - El uso de módulos"
   ]
  },
  {
   "cell_type": "markdown",
   "metadata": {},
   "source": [
    "En el módulo new_func está la función fibo, dicha función recibe un entero n, y entrega una lista con los números de la serie de Fibonacci menores que n. Se quiere hacer un programa que sume los números Fibonacci menores que el número 100. Ahora new_func.py luce así:"
   ]
  },
  {
   "cell_type": "code",
   "execution_count": 8,
   "metadata": {
    "collapsed": false
   },
   "outputs": [
    {
     "name": "stdout",
     "output_type": "stream",
     "text": [
      "la suma de los números de Fibonacci menores que 100 es: 232\n"
     ]
    }
   ],
   "source": [
    "from new_func import fib #Se importa la función fib desde el modulo new_func\n",
    " \n",
    "serie=fib(100)  #La variable serie se llena con la serie de fibonacci hasta antes de 100\n",
    " \n",
    "sum=0\n",
    "for i in serie:\n",
    "     sum=sum+i\n",
    " \n",
    "print('la suma de los números de Fibonacci menores que 100 es:',sum)"
   ]
  },
  {
   "cell_type": "markdown",
   "metadata": {},
   "source": [
    "O la otra manera de hacer el import (menos limpia)"
   ]
  },
  {
   "cell_type": "code",
   "execution_count": 1,
   "metadata": {
    "collapsed": false
   },
   "outputs": [
    {
     "name": "stdout",
     "output_type": "stream",
     "text": [
      "La suma es: 232\n"
     ]
    }
   ],
   "source": [
    "#Importo el módulo\n",
    "from new_func import *\n",
    " \n",
    "a=fib(100)   #Se le asigna a \"a\" una lista con los números de fibonacci menores que 100.\n",
    " \n",
    "b=SumLis(a)   #Uso la función SumLis para sumar las componentes de la lista a, y se las asigno a b\n",
    " \n",
    "print(\"La suma es:\" , b)"
   ]
  },
  {
   "cell_type": "markdown",
   "metadata": {},
   "source": [
    "NOTA: Aquí puede pasar un error puesto que el módulo ya había sido importado con otro nombre. La solución es reiniciar el kernel. En el menu superior |Kernel -> Restart\n"
   ]
  },
  {
   "cell_type": "markdown",
   "metadata": {},
   "source": [
    "También se puede correr un script (o una librería en este caso) desde el notebook, con %load se puede cargar el texto (codigo) en el notebook, y luego ejecutarlo"
   ]
  },
  {
   "cell_type": "code",
   "execution_count": 4,
   "metadata": {
    "collapsed": false
   },
   "outputs": [
    {
     "name": "stdout",
     "output_type": "stream",
     "text": [
      "Serie de Fibonacci hasta el termino exactamente menor que 200:  [1, 1, 2, 3, 5, 8, 13, 21, 34, 55, 89, 144]\n"
     ]
    }
   ],
   "source": [
    "# %load new_func.py\n",
    "def Multi( arg1=0, arg2=0 , *vartuple ):\n",
    "    \"Multiplica todos los argumentos\"\n",
    "    produc=arg1*arg2\n",
    " \n",
    "    for var in vartuple:\n",
    "       produc=produc*var\n",
    " \n",
    "    return produc\n",
    " \n",
    " \n",
    "def fib(n):\n",
    "    \"Recibe un entero n, y entrega una lista con los números de fibonacci menores que n\"\n",
    "    result = []\n",
    "    a, b = 0, 1\n",
    "    while b < n:\n",
    "        result.append(b)\n",
    "        a, b = b, a+b\n",
    "    return result\n",
    " \n",
    " \n",
    "def SumLis(list):\n",
    "    sum=0\n",
    "    for i in list:\n",
    "        sum=sum + i\n",
    " \n",
    "    return sum\n",
    " \n",
    " \n",
    "if __name__ == \"__main__\":\n",
    "    a=fib(200)\n",
    "    print('Serie de Fibonacci hasta el termino exactamente menor que 200: ',a)\n",
    "    b=SumLis(a)\n"
   ]
  },
  {
   "cell_type": "markdown",
   "metadata": {},
   "source": [
    "O directamente corriendolo en el notebook"
   ]
  },
  {
   "cell_type": "code",
   "execution_count": 9,
   "metadata": {
    "collapsed": false
   },
   "outputs": [
    {
     "name": "stdout",
     "output_type": "stream",
     "text": [
      "Serie de Fibonacci hasta el termino exactamente menor que 200:  [1, 1, 2, 3, 5, 8, 13, 21, 34, 55, 89, 144]\n"
     ]
    }
   ],
   "source": [
    "%run new_func.py"
   ]
  },
  {
   "cell_type": "markdown",
   "metadata": {},
   "source": [
    "Las funciones de leer y escribir en pantalla también están en el Notebook."
   ]
  },
  {
   "cell_type": "code",
   "execution_count": 10,
   "metadata": {
    "collapsed": false
   },
   "outputs": [
    {
     "name": "stdout",
     "output_type": "stream",
     "text": [
      "¿Cual es tu nombre? camilo\n",
      "Gusto en conocerte  camilo\n"
     ]
    }
   ],
   "source": [
    "Nom=input('¿Cual es tu nombre? ')\n",
    "#Utilizo la variable Nom\n",
    "print('Gusto en conocerte ',Nom)"
   ]
  },
  {
   "cell_type": "markdown",
   "metadata": {},
   "source": [
    "### -Abrir y Cerrar Archivos."
   ]
  },
  {
   "cell_type": "markdown",
   "metadata": {},
   "source": [
    "Método Write"
   ]
  },
  {
   "cell_type": "code",
   "execution_count": 12,
   "metadata": {
    "collapsed": false
   },
   "outputs": [
    {
     "name": "stdout",
     "output_type": "stream",
     "text": [
      "¿Cual es tu nombre? camilo\n",
      "Nombre del archivo:  resultados.txt\n",
      "¿Está cerrado? :  False\n",
      "Modo de apertura :  w\n",
      "¿Está cerrado? :  True\n"
     ]
    }
   ],
   "source": [
    "#Pregunto al usuario su nombre, y lo guardo en la variable Nom.\n",
    "Nom=input('¿Cual es tu nombre? ')\n",
    "# Abro el archivo resultados.txt, en modo escritura, y se lo asigno a la variable archivo1\n",
    "archivo1 = open(\"resultados.txt\", \"w\")\n",
    "print (\"Nombre del archivo: \", archivo1.name)\n",
    "print (\"¿Está cerrado? : \", archivo1.closed)\n",
    "print (\"Modo de apertura : \", archivo1.mode)\n",
    "archivo1.write(\"Nombre\\n\") #Escribe la cadena de caracteres \"Nombre\", y \\n es un salto de linea\n",
    "archivo1.write(Nom) #Escribe la cadena de caracteres guardada en la variable Nom\n",
    "archivo1.write(\"\\n\") #Escribe un salto de linea\n",
    "archivo1.close()\n",
    "print (\"¿Está cerrado? : \", archivo1.closed)"
   ]
  },
  {
   "cell_type": "markdown",
   "metadata": {},
   "source": [
    "Nota: Para obtener el directorio de trabajo, se usa os.getcwd() de la librería os."
   ]
  },
  {
   "cell_type": "code",
   "execution_count": 14,
   "metadata": {
    "collapsed": false
   },
   "outputs": [
    {
     "data": {
      "text/plain": [
       "'C:\\\\Users\\\\casfi\\\\Documents\\\\Python Scripts'"
      ]
     },
     "execution_count": 14,
     "metadata": {},
     "output_type": "execute_result"
    }
   ],
   "source": [
    "import os\n",
    "os.getcwd()"
   ]
  },
  {
   "cell_type": "markdown",
   "metadata": {},
   "source": [
    "Método read"
   ]
  },
  {
   "cell_type": "code",
   "execution_count": 15,
   "metadata": {
    "collapsed": false
   },
   "outputs": [
    {
     "name": "stdout",
     "output_type": "stream",
     "text": [
      "los primeros 10 bytes del archivo:   Nombre\n",
      "cam\n"
     ]
    }
   ],
   "source": [
    "# Abro el archivo en modo lectura y escritura y lo asigno a la variable Archivo2 \n",
    "Archivo2 = open(\"resultados.txt\", \"r+\")\n",
    "str = Archivo2.read(10) #leo 10 bytes del archivo\n",
    "print (\"los primeros 10 bytes del archivo:  \", str) \n",
    "# Cierro el archivo\n",
    "Archivo2.close()"
   ]
  },
  {
   "cell_type": "markdown",
   "metadata": {},
   "source": [
    "El método tell() y el método seek(offset , ref)"
   ]
  },
  {
   "cell_type": "code",
   "execution_count": 16,
   "metadata": {
    "collapsed": false,
    "scrolled": true
   },
   "outputs": [
    {
     "name": "stdout",
     "output_type": "stream",
     "text": [
      "Los primeros 6 bytes :  Nombre\n",
      "posición actual :  6\n",
      "Apellido: \n",
      "salazar\n",
      "Todo el archivo completo desde el inicio : \n",
      " Nombre\n",
      "camilo\n",
      "salazar\n"
     ]
    }
   ],
   "source": [
    "# Abre el archivo \n",
    "arch = open(\"resultados.txt\", \"r+\")\n",
    "str = arch.read(6)\n",
    "print (\"Los primeros 6 bytes : \", str)\n",
    " \n",
    "# Mira la posición actual\n",
    "pos = arch.tell()\n",
    "print (\"posición actual : \", pos)\n",
    "str2 =arch.read()\n",
    "apell= input('Apellido: \\n')\n",
    "arch.write(apell)\n",
    "# Devuelvo el puntero hasta el inicio\n",
    "pos = arch.seek(0, 0)\n",
    "str = arch.read()\n",
    "print (\"Todo el archivo completo desde el inicio : \\n\", str)\n",
    "# Cierro\n",
    "arch.close()"
   ]
  },
  {
   "cell_type": "markdown",
   "metadata": {},
   "source": [
    "### Sistema de archivos\n"
   ]
  },
  {
   "cell_type": "markdown",
   "metadata": {},
   "source": [
    "Se puede llamar al sistema operativo para cambiar nombres de los archivos, para borrarlos, crear directorios, moverse de directorio de trabajo ..."
   ]
  },
  {
   "cell_type": "code",
   "execution_count": 17,
   "metadata": {
    "collapsed": true
   },
   "outputs": [],
   "source": [
    "# Cambio el nombre de resultados.txt a resultado.txt\n",
    "os.rename( \"resultados.txt\", \"resultado.txt\" )"
   ]
  },
  {
   "cell_type": "code",
   "execution_count": 19,
   "metadata": {
    "collapsed": false
   },
   "outputs": [
    {
     "data": {
      "text/plain": [
       "['.ipynb_checkpoints',\n",
       " 'new_func.py',\n",
       " 'Repaso-Algoritmos_y_Programacion.ipynb',\n",
       " 'resultado.txt',\n",
       " 'Untitled.ipynb',\n",
       " 'Untitled1.ipynb',\n",
       " '__pycache__']"
      ]
     },
     "execution_count": 19,
     "metadata": {},
     "output_type": "execute_result"
    }
   ],
   "source": [
    "# listdir, lista el contenido del directorio actual.\n",
    "os.listdir()"
   ]
  },
  {
   "cell_type": "markdown",
   "metadata": {},
   "source": [
    "## CLASES Y OBJETOS"
   ]
  },
  {
   "cell_type": "markdown",
   "metadata": {},
   "source": [
    "### -Manejo básico de Clases y Objetos\n"
   ]
  },
  {
   "cell_type": "markdown",
   "metadata": {},
   "source": [
    "Creación de Clases"
   ]
  },
  {
   "cell_type": "code",
   "execution_count": 32,
   "metadata": {
    "collapsed": false
   },
   "outputs": [],
   "source": [
    "class Estudiante:\n",
    "   'Cosas comunes a todo estudiante'\n",
    "   Numero_Estudiantes = 0\n",
    " \n",
    "   def __init__(self, nombre, nivel):\n",
    "      self.nombre = nombre\n",
    "      self.nivel = nivel\n",
    "      Estudiante.Numero_Estudiantes += 1\n",
    "    \n",
    "   def __del__(self):\n",
    "      class_name = self.__class__.__name__\n",
    "      print (class_name, \"destruido\")\n",
    " \n",
    "   def  display_NE(self):\n",
    "     print ('Numero de estudiantes:', self.Numero_Estudiantes)\n",
    " \n",
    "   def display_Estudiante(self):\n",
    "      print ('Nombre:', self.nombre,  \", Nivel: \", self.nivel)"
   ]
  },
  {
   "cell_type": "markdown",
   "metadata": {},
   "source": [
    "Creando objetos de la clase estudiante"
   ]
  },
  {
   "cell_type": "code",
   "execution_count": 33,
   "metadata": {
    "collapsed": true
   },
   "outputs": [],
   "source": [
    "#Creemos el primer objeto estudiante, llamado Camilo en el nivel 10.\n",
    "estu1=Estudiante(\"Camilo\",10)\n",
    "#Esto instancia un segundo objeto estudiante, llamado Alfredo en el nivel 1.\n",
    "estu2=Estudiante(\"Alfredo\",1)"
   ]
  },
  {
   "cell_type": "markdown",
   "metadata": {},
   "source": [
    "Accesando a los atributos y métodos del objeto"
   ]
  },
  {
   "cell_type": "code",
   "execution_count": 34,
   "metadata": {
    "collapsed": false
   },
   "outputs": [
    {
     "name": "stdout",
     "output_type": "stream",
     "text": [
      "Número de estudiantes:  2\n",
      "Número de estudiantes:  2\n",
      "Nombre: Camilo , Nivel:  10\n",
      "Nombre: Alfredo , Nivel:  1\n",
      "Numero de estudiantes: 2\n",
      "Numero de estudiantes: 2\n"
     ]
    }
   ],
   "source": [
    "print(\"Número de estudiantes: \", estu1.Numero_Estudiantes)\n",
    "print(\"Número de estudiantes: \", estu2.Numero_Estudiantes)\n",
    "estu1.display_Estudiante()\n",
    "estu2.display_Estudiante()\n",
    "estu1.display_NE()\n",
    "estu2.display_NE()"
   ]
  },
  {
   "cell_type": "markdown",
   "metadata": {},
   "source": [
    "Destruyendo objetos estudiante"
   ]
  },
  {
   "cell_type": "code",
   "execution_count": 35,
   "metadata": {
    "collapsed": false
   },
   "outputs": [
    {
     "name": "stdout",
     "output_type": "stream",
     "text": [
      "Estudiante destruido\n",
      "Estudiante destruido\n"
     ]
    }
   ],
   "source": [
    "del estu1\n",
    "del estu2"
   ]
  },
  {
   "cell_type": "markdown",
   "metadata": {},
   "source": [
    "### -Herencia"
   ]
  },
  {
   "cell_type": "markdown",
   "metadata": {},
   "source": [
    "La capacidad de heredar de otras clases tambien se puede usar en el Notebook"
   ]
  },
  {
   "cell_type": "code",
   "execution_count": 44,
   "metadata": {
    "collapsed": false
   },
   "outputs": [
    {
     "name": "stdout",
     "output_type": "stream",
     "text": [
      "Llamada al método mi_Metodo del padre\n",
      "Llamada al método mi_Metodo del hijo\n"
     ]
    }
   ],
   "source": [
    "class Padre:        # Clase Padre\n",
    "    def mi_Metodo(self):\n",
    "      print ('Llamada al método mi_Metodo del padre')\n",
    " \n",
    "class Hijo(Padre): # Clase hija\n",
    "    def mi_Metodo(self):\n",
    "      print ('Llamada al método mi_Metodo del hijo')\n",
    "\n",
    "p=Padre()\n",
    "h=Hijo()\n",
    "p.mi_Metodo()\n",
    "h.mi_Metodo()"
   ]
  },
  {
   "cell_type": "markdown",
   "metadata": {},
   "source": [
    "### -Sobrecarga de Operadores y Métodos"
   ]
  },
  {
   "cell_type": "code",
   "execution_count": 59,
   "metadata": {
    "collapsed": true
   },
   "outputs": [],
   "source": [
    "class Vector:\n",
    "    '''Es una clase vector de ejemplo'''\n",
    "    def __init__(self, x0=0,y0=0,z0=0):\n",
    "        self.x=x0\n",
    "        self.y=y0\n",
    "        self.z=z0\n",
    " \n",
    "    def __add__(self,other):\n",
    "        return Vector(self.x + other.x, self.y + other.y, self.z + other.z)\n",
    " \n",
    "    def __sub__(self,other):\n",
    "        return Vector(self.x - other.x, self.y - other.y, self.z - other.z)\n",
    "    \n",
    "    def __repr__(self): # metodo para mostrarse\n",
    "        return \"[%s, %s, %s]\" % (self.x, self.y, self.z)\n",
    "        \n",
    "    def __str__(self): #metodo para imprimirse\n",
    "        return \"(%s, %s, %s)\" % (self.x, self.y, self.z)"
   ]
  },
  {
   "cell_type": "code",
   "execution_count": 60,
   "metadata": {
    "collapsed": false
   },
   "outputs": [
    {
     "name": "stdout",
     "output_type": "stream",
     "text": [
      "Z= (-1, -1, -1)\n"
     ]
    },
    {
     "data": {
      "text/plain": [
       "[3, 3, 3]"
      ]
     },
     "execution_count": 60,
     "metadata": {},
     "output_type": "execute_result"
    }
   ],
   "source": [
    "X= Vector(1,1,1)\n",
    "Y= Vector(2,2,2)\n",
    "Z= Vector()\n",
    "Z=X-Y\n",
    "print (\"Z=\" ,Z)\n",
    "Z=X+Y\n",
    "Z"
   ]
  },
  {
   "cell_type": "markdown",
   "metadata": {},
   "source": [
    "# Matplotlib"
   ]
  },
  {
   "cell_type": "markdown",
   "metadata": {},
   "source": [
    "También las capacidades gráficas de Matplotlib pueden ser usados en los Notbooks, hay que tener cuidado de poner en la primera linea de los gráficos el comando mágico %matplotlib inline"
   ]
  },
  {
   "cell_type": "code",
   "execution_count": 66,
   "metadata": {
    "collapsed": false
   },
   "outputs": [
    {
     "data": {
      "text/plain": [
       "<matplotlib.text.Text at 0x1dafdfaba58>"
      ]
     },
     "execution_count": 66,
     "metadata": {},
     "output_type": "execute_result"
    },
    {
     "data": {
      "image/png": "[encoded data removed]",
      "text/plain": [
       "<matplotlib.figure.Figure at 0x1dafc904ef0>"
      ]
     },
     "metadata": {},
     "output_type": "display_data"
    }
   ],
   "source": [
    "%matplotlib inline #Para ver la gráfica en el notebook\n",
    "import matplotlib.pyplot as plt\n",
    "import numpy as np\n",
    "import calendar\n",
    "# Para generar el lugar del primer días de cada mes en un año\n",
    "dias = [np.array(calendar.mdays)[0:i].sum()+ 1 for i in\n",
    "np.arange(12)+1]\n",
    "# Creamos una lista con los nombres de los meses\n",
    "meses = calendar.month_name[1:13]\n",
    "plt.axes([0.1,0.2,0.8,0.65])\n",
    "# Creamos un plot con 365 valores\n",
    "plt.plot(np.arange(1,366), np.random.rand(365), label = 'valores al azar')\n",
    "plt.xlim(-5,370) # Los valores del eje y variarán entre -5 y 370\n",
    "plt.ylim(0,1.2) # Los valores del eje y variarán entre 0 y 1.2\n",
    "plt.legend() # Creamos la caja con la leyenda\n",
    "plt.title(u'Ejemplo de título') # Ponemos un título\n",
    "# Ponemos un título superior\n",
    "plt.suptitle(u'Ejemplo de título superior')\n",
    "# Pedimos que se vean subrrayas de división en los ejes\n",
    "plt.minorticks_on()\n",
    "# Colocamos las etiquetas, meses, en las posiciones, días,\n",
    "# con color azul y rotadas 45o\n",
    "plt.xticks(dias, meses, size = 'small', color = 'b', rotation = 45)\n",
    "plt.xlabel(u't (días)')\n",
    "plt.ylabel('Media diaria')"
   ]
  },
  {
   "cell_type": "code",
   "execution_count": 67,
   "metadata": {
    "collapsed": false
   },
   "outputs": [
    {
     "data": {
      "text/plain": [
       "<matplotlib.text.Text at 0x1dafe00e978>"
      ]
     },
     "execution_count": 67,
     "metadata": {},
     "output_type": "execute_result"
    },
    {
     "data": {
      "image/png": "[encoded data removed]",
      "text/plain": [
       "<matplotlib.figure.Figure at 0x1dafdfab198>"
      ]
     },
     "metadata": {},
     "output_type": "display_data"
    }
   ],
   "source": [
    "%matplotlib inline\n",
    "x = np.arange(25) + 1 # Valores de x\n",
    "y = np.random.rand(25) * 10. # Valores de y\n",
    "# Valores de y normalizados. Esta nueva serie tiene media 0 y desvicación estándar 1\n",
    "y_norm = (y - y.mean()) / y.std()\n",
    "# Colocamos los límites del eje x\n",
    "plt.xlim(np.min(x) - 1, np.max(x) + 1)\n",
    "# Colocamos los límites del eje y\n",
    "plt.ylim(np.min(y_norm)-1, np.max(y_norm)+1)\n",
    "# Dibujamos los valores por encima de la media\n",
    "plt.stem(x[y_norm > 0],y_norm[y_norm > 0],linefmt='k-.',markerfmt='go',basefmt='b-') \n",
    "# Dibujamos los valores por debajo de la media\n",
    "plt.stem(x[y_norm < 0],y_norm[y_norm < 0],linefmt='k-.',markerfmt='ro',basefmt='b-') \n",
    "# Colocamos el título del gráfico\n",
    "plt.title(u'Representación de (x, f(x))')\n",
    "plt.xlabel('valores x') # Colocamos la etiqueta en el eje x\n",
    "plt.ylabel('valores f(x)') # Colocamos la etiqueta en el eje y"
   ]
  },
  {
   "cell_type": "code",
   "execution_count": 68,
   "metadata": {
    "collapsed": false
   },
   "outputs": [
    {
     "data": {
      "text/plain": [
       "<matplotlib.text.Text at 0x1daff121128>"
      ]
     },
     "execution_count": 68,
     "metadata": {},
     "output_type": "execute_result"
    },
    {
     "data": {
      "image/png": "[encoded data removed]",
      "text/plain": [
       "<matplotlib.figure.Figure at 0x1dafc8bb668>"
      ]
     },
     "metadata": {},
     "output_type": "display_data"
    }
   ],
   "source": [
    "%matplotlib inline\n",
    "plt.ion()\n",
    "x = np.arange(100) \n",
    "y = np.random.rand(100) \n",
    "plt.plot(x,y, color = 'black', label = '(x, f(x)')\n",
    "plt.plot(x[y > 0.9], y[y > 0.9],'bo', label = 'f(x) > 0.9')\n",
    "plt.axhspan(0.9, 1, alpha = 0.1)\n",
    "plt.ylim(0,1.2)\n",
    "plt.legend()\n",
    "plt.title(u'Parejas ordenadas (x, f(x))')\n",
    "plt.xlabel('X')\n",
    "plt.ylabel('f(x)')"
   ]
  },
  {
   "cell_type": "code",
   "execution_count": null,
   "metadata": {
    "collapsed": true
   },
   "outputs": [],
   "source": []
  }
 ],
 "metadata": {
  "kernelspec": {
   "display_name": "Python [default]",
   "language": "python",
   "name": "python3"
  },
  "language_info": {
   "codemirror_mode": {
    "name": "ipython",
    "version": 3
   },
   "file_extension": ".py",
   "mimetype": "text/x-python",
   "name": "python",
   "nbconvert_exporter": "python",
   "pygments_lexer": "ipython3",
   "version": "3.5.2"
  }
 },
 "nbformat": 4,
 "nbformat_minor": 1
}
