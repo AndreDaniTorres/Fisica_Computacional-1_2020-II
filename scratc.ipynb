{
 "metadata": {
  "language_info": {
   "codemirror_mode": {
    "name": "ipython",
    "version": 3
   },
   "file_extension": ".py",
   "mimetype": "text/x-python",
   "name": "python",
   "nbconvert_exporter": "python",
   "pygments_lexer": "ipython3",
   "version": "3.8.5-final"
  },
  "orig_nbformat": 2,
  "kernelspec": {
   "name": "python_defaultSpec_1599072266899",
   "display_name": "Python 3.8.5 64-bit"
  }
 },
 "nbformat": 4,
 "nbformat_minor": 2,
 "cells": [
  {
   "cell_type": "markdown",
   "metadata": {},
   "source": [
    "### Destruyendo Objetos\n",
    "\n",
    "Python tiene un proceso llamado \"Grabage Collection\", y lo que hace es borrar los objetos automáticamente para liberar memoria. Este colector de basura se ejecuta mientras el programa corre y es alertado cuando el contador de referencia de un objeto llega a cero.\n",
    "El contador de referencia de un objeto, incrementa cuando se le asigna un nuevo nombre, o se pone dentro de un contenedor (tupla, lista, diccionario u otro objeto). El contador de referencia disminuye cuando el objeto es borrado, o cuando se reasigna la referencia a otro elemento o sale de alcance.\n",
    "\n",
    "Siempre se puede chequear el número de referencia de un objeto usando la librería `sys` con la función `getrefcount`.\n",
    "\n",
    "__Ejemplo:__"
   ]
  },
  {
   "cell_type": "code",
   "execution_count": 1,
   "metadata": {
    "tags": []
   },
   "outputs": [
    {
     "output_type": "stream",
     "name": "stdout",
     "text": "5\n6\n7\n8\n7\n6\n5\n"
    }
   ],
   "source": [
    "import sys\n",
    "class ClaseVacia:\n",
    "    None\n",
    "   \n",
    "print(sys.getrefcount(ClaseVacia))\n",
    "a = ClaseVacia     # Se crea un objeto <ClaseVacia>\n",
    "type(a)\n",
    "print(sys.getrefcount(ClaseVacia))\n",
    "b = a      # Aumenta el contador de referencia <ClaseVacia> \n",
    "print(sys.getrefcount(ClaseVacia))\n",
    "c = [b]    # Aumenta el contador de referencia <ClaseVacia>  \n",
    "print(sys.getrefcount(ClaseVacia))\n",
    "del a       # Disminuye el contador de referencia <ClaseVacia>\n",
    "print(sys.getrefcount(ClaseVacia)) \n",
    "b = 100     # Disminuye el contador de referencia <ClaseVacia>  \n",
    "print(sys.getrefcount(ClaseVacia))\n",
    "c[0] = -1   # Disminuye el contador de referencia <ClaseVacia>\n",
    "print(sys.getrefcount(ClaseVacia))"
   ]
  },
  {
   "cell_type": "code",
   "execution_count": 3,
   "metadata": {},
   "outputs": [
    {
     "output_type": "execute_result",
     "data": {
      "text/plain": "120"
     },
     "metadata": {},
     "execution_count": 3
    }
   ],
   "source": [
    "factorial(5)"
   ]
  },
  {
   "cell_type": "code",
   "execution_count": 1,
   "metadata": {},
   "outputs": [],
   "source": [
    "def factorial(n):\n",
    "    if n==1:\n",
    "        return 1\n",
    "    else:\n",
    "        return n*factorial(n-1)\n"
   ]
  },
  {
   "cell_type": "markdown",
   "metadata": {},
   "source": [
    "https://rushter.com/blog/python-garbage-collector/#:~:text=Reference%20counting%20is%20a%20simple,to%20the%20right%2Dhand%20side."
   ]
  },
  {
   "cell_type": "code",
   "execution_count": 2,
   "metadata": {
    "tags": []
   },
   "outputs": [
    {
     "output_type": "stream",
     "name": "stdout",
     "text": "2\n4\n2\n"
    }
   ],
   "source": [
    "import sys\n",
    "\n",
    "foo = []\n",
    "\n",
    "# 2 references, 1 from the foo var and 1 from getrefcount\n",
    "print(sys.getrefcount(foo))\n",
    "\n",
    "\n",
    "def bar(a):\n",
    "    # 4 references\n",
    "    # from the foo var, function argument, getrefcount and Python's function stack\n",
    "    print(sys.getrefcount(a))\n",
    "\n",
    "\n",
    "bar(foo)\n",
    "# 2 references, the function scope is destroyed\n",
    "print(sys.getrefcount(foo))"
   ]
  },
  {
   "cell_type": "code",
   "execution_count": null,
   "metadata": {},
   "outputs": [],
   "source": []
  }
 ]
}